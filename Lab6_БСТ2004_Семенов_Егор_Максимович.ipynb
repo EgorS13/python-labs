{
 "cells": [
  {
   "cell_type": "markdown",
   "metadata": {
    "id": "0z3KlfKDn4_K"
   },
   "source": [
    "# Лабораторная работа 6. \n",
    "# Сетевые алгоритмы. Динамические алгоритмы поиска путей.\n"
   ]
  },
  {
   "cell_type": "markdown",
   "metadata": {
    "id": "96Gi_LEvmSVH"
   },
   "source": [
    "## Выполнил студент группы БСТ2004 Семенов Егор Максимович\n",
    "***"
   ]
  },
  {
   "cell_type": "markdown",
   "metadata": {
    "id": "GjdIp8aToKIe"
   },
   "source": [
    "### Задание\n",
    "\n",
    "1.  Реализовать алгоритм поиска кратчайшего расстояния между двумя вершинами ориентированного взвешенного графа в соответствии с вариантом. \n",
    "\n",
    "2.  Предусмотреть задание графа в виде матрицы смежности/инцидентности, читаемой из файла, либо графически с помощью пользовательского интерфейса. \n",
    "\n",
    "3.  Разработать графический интерфейс пользователя с визуализацией графа и отображением кратчайшего расстояния между задаваемыми пользователем вершинами.\n",
    "\n",
    "4. По результатам работы проанализировать временную сложность работы заданного алгоритма в зависимости от числа узлов и ребер графа.\n",
    "Данные представить в виде таблицы.\n",
    "\n"
   ]
  },
  {
   "cell_type": "markdown",
   "metadata": {
    "id": "LhhUXrAmotIA"
   },
   "source": [
    "### Варианты заданий:\n",
    "\n",
    "Вариант | Задание\n",
    ":-------- |:-----\n",
    "1, 7, 13, 19, 25 | Алгоритм Флойда-Уоршелла\n",
    "2, 8, 14, 20, 26 | Алгоритм Дейкстры\n",
    "3, 9,15,21,27 | Алгоритм Беллмана-Форда\n",
    "4, 10, 16, 22, 28 | Алгоритм Джонсона\n",
    "5, 11, 17, 23, 29| Алгоритм Левита\n",
    "6, 12, 18, 24, 30 | Алгоритм Йена\n",
    "\n"
   ]
  },
  {
   "cell_type": "markdown",
   "metadata": {
    "id": "Wggfn8l7nG72"
   },
   "source": [
    "### Выполнение:"
   ]
  },
  {
   "cell_type": "code",
   "execution_count": 270,
   "metadata": {},
   "outputs": [
    {
     "name": "stdout",
     "output_type": "stream",
     "text": [
      "[[0, 2, 1, 4, 5, 1], [1, 0, 4, 2, 3, 4], [2, 1, 0, 1, 2, 4], [3, 5, 2, 0, 3, 3], [2, 4, 3, 4, 0, 1], [3, 4, 7, 3, 1, 0]]\n",
      "Минимальное расстояние между точками:  1\n",
      "Время выполнения: 0.000166 сек\n"
     ]
    }
   ],
   "source": [
    "import numpy as np\n",
    "import time\n",
    "\n",
    "def get_path(P, u, v):\n",
    "    path = [u]\n",
    "    while u != v:\n",
    "        u = P[u][v]\n",
    "        path.append(u)\n",
    "    return path\n",
    "\n",
    "with open('GraphList.txt', 'r') as f:  # чтение из файла построчно\n",
    "    V = [[int(num) for num in line.split(',')] for line in f]\n",
    "print(V)\n",
    "\n",
    "def dijkstra(graph, src, fin):\n",
    "    visited = []\n",
    "    distance = {src: 0}\n",
    "    min_dist_fin = float('inf')\n",
    "    path = [src]\n",
    "    node = list(range(len(graph[0])))\n",
    "    if src in node:\n",
    "        node.remove(src)\n",
    "        visited.append(src)\n",
    "    else:\n",
    "        return None\n",
    "    for i in node:\n",
    "        distance[i] = graph[src][i]\n",
    "    prefer = src\n",
    "    while node:\n",
    "        _distance = float('inf')\n",
    "        for i in visited:\n",
    "            for j in node:\n",
    "                if graph[i][j] > 0:\n",
    "                    if _distance > distance[i] + graph[i][j]:\n",
    "                        _distance = distance[j] = distance[i] + graph[i][j]\n",
    "                        if prefer == fin:\n",
    "                            min_dist_fin = distance\n",
    "                            path.append(fin)\n",
    "                        prefer = j\n",
    "                        \n",
    "        visited.append(prefer)\n",
    "        node.remove(prefer)\n",
    "    return min_dist_fin[fin]\n",
    "\n",
    "src = 0\n",
    "fin = 2\n",
    "t = time.perf_counter()\n",
    "distance = dijkstra(V, src, fin)\n",
    "print(\"Минимальное расстояние между точками: \", distance)\n",
    "time = 'Время выполнения' + ': {0:.6f} сек'.format((time.perf_counter() - t))\n",
    "print(time)"
   ]
  },
  {
   "cell_type": "code",
   "execution_count": 277,
   "metadata": {},
   "outputs": [
    {
     "name": "stdout",
     "output_type": "stream",
     "text": [
      "Минимальное расстояние между точками:  1\n",
      "Искомый путь:  [('2', '0')]\n"
     ]
    },
    {
     "data": {
      "image/png": "[encoded data removed]",
      "text/plain": [
       "<Figure size 432x288 with 1 Axes>"
      ]
     },
     "metadata": {},
     "output_type": "display_data"
    }
   ],
   "source": [
    "import networkx as nx\n",
    "import numpy as np\n",
    "import matplotlib.pyplot as plt\n",
    "import pylab\n",
    "\n",
    "G = nx.read_edgelist('GraphList1.txt', nodetype=str,\n",
    "  data=(('weight',int),), create_using=nx.DiGraph())\n",
    "\n",
    "options = {\n",
    "    'node_color': 'yellow',\n",
    "    'node_size': 500,\n",
    "    'width': 1,\n",
    "    'arrowstyle': '-|>',\n",
    "    'arrowsize': 12,\n",
    "    \n",
    "    \"edge_color\":edge_colors,\n",
    "    \"edge_cmap\":plt.cm.Reds\n",
    "}\n",
    "\n",
    "\n",
    "\n",
    "edge_labels=dict([((u,v,),d['weight'])\n",
    "                 for u,v,d in G.edges(data=True)])\n",
    "\n",
    "start = 0\n",
    "end = 2\n",
    "path = get_path(P, end, start)\n",
    "dist = dijkstra(V, src, fin)\n",
    "print(\"Минимальное расстояние между точками: \", dist)\n",
    "result_path = [str(item) for item in path]\n",
    "color_edges = []\n",
    "for i in range(len(path)-1):\n",
    "    color_edges.append((result_path[i], result_path[i+1]))\n",
    "\n",
    "print(\"Искомый путь: \", color_edges)\n",
    "edge_colors = ['black' if not edge in color_edges else 'red' for edge in G.edges()]\n",
    "\n",
    "pos=nx.spring_layout(G)\n",
    "nx.draw_networkx_edge_labels(G,pos,edge_labels=edge_labels)\n",
    "nx.draw_networkx(G, pos, arrows=True, **options)\n",
    "\n",
    "pylab.show()"
   ]
  },
  {
   "cell_type": "markdown",
   "metadata": {
    "id": "diOb-K7LnO5a"
   },
   "source": [
    "### Вывод\n",
    "\n",
    "Были реализованы все задания, а именно: непосредственно сам алгоритм Дейкстры, возможность чтения матрицы смежности из файла, а также графическое отображение графа. Кроме того, было проведено сравнение зависимости времени построения графа от количества узлов."
   ]
  }
 ],
 "metadata": {
  "colab": {
   "name": "Lab6.ipynb",
   "provenance": []
  },
  "kernelspec": {
   "display_name": "Python 3 (ipykernel)",
   "language": "python",
   "name": "python3"
  },
  "language_info": {
   "codemirror_mode": {
    "name": "ipython",
    "version": 3
   },
   "file_extension": ".py",
   "mimetype": "text/x-python",
   "name": "python",
   "nbconvert_exporter": "python",
   "pygments_lexer": "ipython3",
   "version": "3.9.7"
  }
 },
 "nbformat": 4,
 "nbformat_minor": 1
}
