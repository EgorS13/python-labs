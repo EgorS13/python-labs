{
 "cells": [
  {
   "cell_type": "markdown",
   "metadata": {
    "id": "WPvB9TcMmKA6"
   },
   "source": [
    "# Лабораторная работа №5\n",
    "# Рекурсия. Фракталы."
   ]
  },
  {
   "cell_type": "markdown",
   "metadata": {
    "id": "96Gi_LEvmSVH"
   },
   "source": [
    "## Выполнил студент группы БСТ2004 Семенов Егор Максимович"
   ]
  },
  {
   "cell_type": "markdown",
   "metadata": {
    "id": "4clYOyb0mbEv"
   },
   "source": [
    "### Задание:\n",
    "Реализовать генерацию заданного типа фрактала с применением рекурсивных функций.\n",
    "\n",
    "\n",
    "Добавить возможность задания глубины фрактала. \n",
    "\n",
    "\n",
    "Оценить глубину рекурсии. \n",
    "\n",
    "\n",
    "Построить таблицу зависимости времени построения от глубины фрактала."
   ]
  },
  {
   "cell_type": "markdown",
   "metadata": {
    "id": "wDXHbUmMmhRL"
   },
   "source": [
    "### Варианты заданий:\n",
    "\n",
    "Вариант | Задание\n",
    ":-------- |:-----\n",
    "1, 7, 13, 19, 25 | Кривая Коха\n",
    "2, 8, 14, 20, 26 | Кривая Гильберта\n",
    "3, 9,15,21,27 | Кривая Серпинского\n",
    "4, 10, 16, 22, 28 | Салфетка Серпинского\n",
    "5, 11, 17, 23, 29| Ковер Серпинского\n",
    "6, 12, 18, 24, 30 | Дерево Пифагора \n"
   ]
  },
  {
   "cell_type": "markdown",
   "metadata": {
    "id": "Wggfn8l7nG72"
   },
   "source": [
    "### Выполнение:"
   ]
  },
  {
   "cell_type": "code",
   "execution_count": 1,
   "metadata": {
    "id": "681a95mZnOSa"
   },
   "outputs": [
    {
     "name": "stdout",
     "output_type": "stream",
     "text": [
      "-+-+-YF+XFX+FY-F-+XF-YFY-FX+F+XF-YFY-FX+-F-YF+XFX+FY-+F+-+XF-YFY-FX+F+-YF+XFX+FY-F-YF+XFX+FY-+F+XF-YFY-FX+-F-+XF-YFY-FX+F+-YF+XFX+FY-F-YF+XFX+FY-+F+XF-YFY-FX+-+F+-YF+XFX+FY-F-+XF-YFY-FX+F+XF-YFY-FX+-F-YF+XFX+FY-+-F-+-+XF-YFY-FX+F+-YF+XFX+FY-F-YF+XFX+FY-+F+XF-YFY-FX+-F-+-YF+XFX+FY-F-+XF-YFY-FX+F+XF-YFY-FX+-F-YF+XFX+FY-+F+-YF+XFX+FY-F-+XF-YFY-FX+F+XF-YFY-FX+-F-YF+XFX+FY-+-F-+XF-YFY-FX+F+-YF+XFX+FY-F-YF+XFX+FY-+F+XF-YFY-FX+-+F+-+XF-YFY-FX+F+-YF+XFX+FY-F-YF+XFX+FY-+F+XF-YFY-FX+-F-+-YF+XFX+FY-F-+XF-YFY-FX+F+XF-YFY-FX+-F-YF+XFX+FY-+F+-YF+XFX+FY-F-+XF-YFY-FX+F+XF-YFY-FX+-F-YF+XFX+FY-+-F-+XF-YFY-FX+F+-YF+XFX+FY-F-YF+XFX+FY-+F+XF-YFY-FX+-+-F-+-YF+XFX+FY-F-+XF-YFY-FX+F+XF-YFY-FX+-F-YF+XFX+FY-+F+-+XF-YFY-FX+F+-YF+XFX+FY-F-YF+XFX+FY-+F+XF-YFY-FX+-F-+XF-YFY-FX+F+-YF+XFX+FY-F-YF+XFX+FY-+F+XF-YFY-FX+-+F+-YF+XFX+FY-F-+XF-YFY-FX+F+XF-YFY-FX+-F-YF+XFX+FY-+-+F+-+-+XF-YFY-FX+F+-YF+XFX+FY-F-YF+XFX+FY-+F+XF-YFY-FX+-F-+-YF+XFX+FY-F-+XF-YFY-FX+F+XF-YFY-FX+-F-YF+XFX+FY-+F+-YF+XFX+FY-F-+XF-YFY-FX+F+XF-YFY-FX+-F-YF+XFX+FY-+-F-+XF-YFY-FX+F+-YF+XFX+FY-F-YF+XFX+FY-+F+XF-YFY-FX+-+F+-+-YF+XFX+FY-F-+XF-YFY-FX+F+XF-YFY-FX+-F-YF+XFX+FY-+F+-+XF-YFY-FX+F+-YF+XFX+FY-F-YF+XFX+FY-+F+XF-YFY-FX+-F-+XF-YFY-FX+F+-YF+XFX+FY-F-YF+XFX+FY-+F+XF-YFY-FX+-+F+-YF+XFX+FY-F-+XF-YFY-FX+F+XF-YFY-FX+-F-YF+XFX+FY-+-F-+-YF+XFX+FY-F-+XF-YFY-FX+F+XF-YFY-FX+-F-YF+XFX+FY-+F+-+XF-YFY-FX+F+-YF+XFX+FY-F-YF+XFX+FY-+F+XF-YFY-FX+-F-+XF-YFY-FX+F+-YF+XFX+FY-F-YF+XFX+FY-+F+XF-YFY-FX+-+F+-YF+XFX+FY-F-+XF-YFY-FX+F+XF-YFY-FX+-F-YF+XFX+FY-+-+F+-+XF-YFY-FX+F+-YF+XFX+FY-F-YF+XFX+FY-+F+XF-YFY-FX+-F-+-YF+XFX+FY-F-+XF-YFY-FX+F+XF-YFY-FX+-F-YF+XFX+FY-+F+-YF+XFX+FY-F-+XF-YFY-FX+F+XF-YFY-FX+-F-YF+XFX+FY-+-F-+XF-YFY-FX+F+-YF+XFX+FY-F-YF+XFX+FY-+F+XF-YFY-FX+-+-F-+-+XF-YFY-FX+F+-YF+XFX+FY-F-YF+XFX+FY-+F+XF-YFY-FX+-F-+-YF+XFX+FY-F-+XF-YFY-FX+F+XF-YFY-FX+-F-YF+XFX+FY-+F+-YF+XFX+FY-F-+XF-YFY-FX+F+XF-YFY-FX+-F-YF+XFX+FY-+-F-+XF-YFY-FX+F+-YF+XFX+FY-F-YF+XFX+FY-+F+XF-YFY-FX+-+F+-+-YF+XFX+FY-F-+XF-YFY-FX+F+XF-YFY-FX+-F-YF+XFX+FY-+F+-+XF-YFY-FX+F+-YF+XFX+FY-F-YF+XFX+FY-+F+XF-YFY-FX+-F-+XF-YFY-FX+F+-YF+XFX+FY-F-YF+XFX+FY-+F+XF-YFY-FX+-+F+-YF+XFX+FY-F-+XF-YFY-FX+F+XF-YFY-FX+-F-YF+XFX+FY-+-F-+-YF+XFX+FY-F-+XF-YFY-FX+F+XF-YFY-FX+-F-YF+XFX+FY-+F+-+XF-YFY-FX+F+-YF+XFX+FY-F-YF+XFX+FY-+F+XF-YFY-FX+-F-+XF-YFY-FX+F+-YF+XFX+FY-F-YF+XFX+FY-+F+XF-YFY-FX+-+F+-YF+XFX+FY-F-+XF-YFY-FX+F+XF-YFY-FX+-F-YF+XFX+FY-+-+F+-+XF-YFY-FX+F+-YF+XFX+FY-F-YF+XFX+FY-+F+XF-YFY-FX+-F-+-YF+XFX+FY-F-+XF-YFY-FX+F+XF-YFY-FX+-F-YF+XFX+FY-+F+-YF+XFX+FY-F-+XF-YFY-FX+F+XF-YFY-FX+-F-YF+XFX+FY-+-F-+XF-YFY-FX+F+-YF+XFX+FY-F-YF+XFX+FY-+F+XF-YFY-FX+-+-+F+-+-YF+XFX+FY-F-+XF-YFY-FX+F+XF-YFY-FX+-F-YF+XFX+FY-+F+-+XF-YFY-FX+F+-YF+XFX+FY-F-YF+XFX+FY-+F+XF-YFY-FX+-F-+XF-YFY-FX+F+-YF+XFX+FY-F-YF+XFX+FY-+F+XF-YFY-FX+-+F+-YF+XFX+FY-F-+XF-YFY-FX+F+XF-YFY-FX+-F-YF+XFX+FY-+-F-+-+XF-YFY-FX+F+-YF+XFX+FY-F-YF+XFX+FY-+F+XF-YFY-FX+-F-+-YF+XFX+FY-F-+XF-YFY-FX+F+XF-YFY-FX+-F-YF+XFX+FY-+F+-YF+XFX+FY-F-+XF-YFY-FX+F+XF-YFY-FX+-F-YF+XFX+FY-+-F-+XF-YFY-FX+F+-YF+XFX+FY-F-YF+XFX+FY-+F+XF-YFY-FX+-+F+-+XF-YFY-FX+F+-YF+XFX+FY-F-YF+XFX+FY-+F+XF-YFY-FX+-F-+-YF+XFX+FY-F-+XF-YFY-FX+F+XF-YFY-FX+-F-YF+XFX+FY-+F+-YF+XFX+FY-F-+XF-YFY-FX+F+XF-YFY-FX+-F-YF+XFX+FY-+-F-+XF-YFY-FX+F+-YF+XFX+FY-F-YF+XFX+FY-+F+XF-YFY-FX+-+-F-+-YF+XFX+FY-F-+XF-YFY-FX+F+XF-YFY-FX+-F-YF+XFX+FY-+F+-+XF-YFY-FX+F+-YF+XFX+FY-F-YF+XFX+FY-+F+XF-YFY-FX+-F-+XF-YFY-FX+F+-YF+XFX+FY-F-YF+XFX+FY-+F+XF-YFY-FX+-+F+-YF+XFX+FY-F-+XF-YFY-FX+F+XF-YFY-FX+-F-YF+XFX+FY-+-+-\n"
     ]
    }
   ],
   "source": [
    "import turtle\n",
    "\n",
    "class LSystem2D:\n",
    "    def __init__(self, t, axiom, width, length, angle):\n",
    "        self.axiom = axiom # инициатор\n",
    "        self.state = axiom # строка с набором команд для фрактала (сначала это инициатор)\n",
    "        self.width = width # толщина линии рисования\n",
    "        self.lenght = length # длина одого линейного сегмента кривой\n",
    "        self.angle = angle # угол поворота\n",
    "        self.t = t # черепашка\n",
    "        self.rules = {} # словарь для хранения правил формирования кривой\n",
    "        self.t.pensize(self.width)\n",
    "\n",
    "    def add_rules(self, *rules): #метод добавления правил формирования кривой\n",
    "        for key, value in rules:\n",
    "            self.rules[key] = value\n",
    "    \n",
    "    def generate_path(self, n_iter): # метод рисования кривой\n",
    "        for n in range(n_iter):\n",
    "            for key, value in self.rules.items():\n",
    "                self.state = self.state.replace(key, value.lower())\n",
    "                \n",
    "            self.state = self.state.upper()\n",
    "            \n",
    "    def draw_turtle(self, start_pos, start_angle):\n",
    "        turtle.tracer(1, 0)\n",
    "        self.t.up() # черепашка поднимается над холстом (перемещается, но не рисует)\n",
    "        self.t.setpos(start_pos)  # стартовая позиция\n",
    "        self.t.seth(start_angle) # начальный угол поворота\n",
    "        self.t.down() # черепашка опускается на холст\n",
    "        \n",
    "        for move in self.state:\n",
    "            if move == 'F': # Движение вперёд на х пикселей\n",
    "                self.t.forward(self.lenght)\n",
    "            elif move == 'S': # Движение вперёд на х пикселей без отрисовки\n",
    "                self.t.up()\n",
    "                self.t.forward(self.lenght)\n",
    "                self.t.down()\n",
    "            elif move == '+': # Поворот влево на заданный угол\n",
    "                self.t.left(self.angle)\n",
    "            elif move == '-': # Поворот вправо на заданный угол\n",
    "                self.t.right(self.angle)\n",
    "            \n",
    "        turtle.done() # чтоб окно не закрывалось после отрисовки\n",
    "        \n",
    "\n",
    "# Здесь создаётся окно 1200х600\n",
    "width = 1200\n",
    "height = 600\n",
    "screen = turtle.Screen()\n",
    "screen.setup(width, height, 0, 0)\n",
    "\n",
    "t = turtle.Turtle()\n",
    "t.ht() # скрываем черепашку\n",
    "\n",
    "# Параметры для кривой Гильберта\n",
    "pen_width = 2\n",
    "f_len = 50\n",
    "pen_width = 1 # толщина линии рисования (в пикселях)\n",
    "f_len = 6 # длина одного сегмента (в пикселях)\n",
    "angle = 90 # угол поворота рисунка (в градусах)\n",
    "axiom = \"X\"\n",
    "\n",
    "# Для других примеров\n",
    "# Кривая Коха\n",
    "#pen_width = 2\n",
    "#f_len = 5\n",
    "#angle = 60\n",
    "#axiom = \"F\"\n",
    "\n",
    "l_sys = LSystem2D(t, axiom, pen_width, f_len, angle)\n",
    "#l_sys.add_rules((\"FX\", \"FX+FY+\"), (\"FY\", \"-FX-FY\"))\n",
    "#l_sys.add_rules((\"F\", \"F+F--F+F\")) # Кривая Коха\n",
    "l_sys.add_rules((\"X\", \"-YF+XFX+FY-\"), (\"Y\", \"+XF-YFY-FX+\"))\n",
    "l_sys.generate_path(5)\n",
    "print(l_sys.state)\n",
    "#l_sys.draw_turtle((-400, 100), 0) # Кривая Коха (заготовка)\n",
    "l_sys.draw_turtle((-680, 400), 0)"
   ]
  },
  {
   "cell_type": "markdown",
   "metadata": {
    "id": "diOb-K7LnO5a"
   },
   "source": [
    "### Вывод"
   ]
  },
  {
   "cell_type": "markdown",
   "metadata": {},
   "source": [
    "В процессе выполнения лабораторной работы была создана L-система, позволяющая реализовывать различные фракталы. В частности, был рассмотрен фрактал под названием кривая Гильберта. Работоспособность кода была протестирована, а работа запушена на GitHub."
   ]
  }
 ],
 "metadata": {
  "colab": {
   "collapsed_sections": [],
   "name": "Lab5.ipynb",
   "provenance": []
  },
  "kernelspec": {
   "display_name": "Python 3 (ipykernel)",
   "language": "python",
   "name": "python3"
  },
  "language_info": {
   "codemirror_mode": {
    "name": "ipython",
    "version": 3
   },
   "file_extension": ".py",
   "mimetype": "text/x-python",
   "name": "python",
   "nbconvert_exporter": "python",
   "pygments_lexer": "ipython3",
   "version": "3.9.7"
  }
 },
 "nbformat": 4,
 "nbformat_minor": 1
}
