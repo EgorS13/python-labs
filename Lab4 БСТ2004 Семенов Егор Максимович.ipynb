{
 "cells": [
  {
   "cell_type": "markdown",
   "id": "fifteen-sailing",
   "metadata": {},
   "source": [
    "# Лабораторная работа №4\n",
    "## Выполнил студент группы БСТ2004 Семенов Егор Максимович"
   ]
  },
  {
   "cell_type": "markdown",
   "id": "arctic-stocks",
   "metadata": {},
   "source": [
    "Реализовать следующие структуры данных:\n",
    "  \n",
    "● <b> Стек (stack): </b>  \n",
    "Операции для стека: \n",
    "<i> инициализация, проверка на пустоту, добавление нового элемента в начало, извлечение элемента из начала;  </i>  \n",
    "  \n",
    "● <b> Дек (двусторонняя очередь, deque):  </b>  \n",
    "Операции для дека: \n",
    "<i> инициализация, проверка на пустоту, добавление нового элемента в начало, добавление нового элемента в конец, извлечение элемента из начала, извлечение элемента из конца. </i>  \n",
    "  \n",
    "<i> Разработать программу обработки данных, содержащихся в заранее подготовленном txt-файле, в соответствии с заданиями, применив указанную в задании структуру данных. Результат работы программы вывести на экран и сохранить в отдельном txt-файле. </i>"
   ]
  },
  {
   "cell_type": "code",
   "execution_count": 2,
   "id": "11d37543",
   "metadata": {},
   "outputs": [],
   "source": [
    "class LinkedNode:\n",
    "    def __init__(self, value=None):\n",
    "        self.value = value\n",
    "        self.right = None\n",
    "        self.left = None\n",
    "#Стек\n",
    "class Stack:\n",
    "    def __init__(self):    #инициализация\n",
    "        self.head = LinkedNode()\n",
    "        self.size = 0\n",
    "\n",
    "    def is_empty(self):    #is_empty - определить, пусто ли оно\n",
    "        return self.size == 0\n",
    "\n",
    "    def push(self, value):   #push - добавляет элемент в верхнюю часть стека\n",
    "        if self.size > 0:\n",
    "            node = LinkedNode(value)\n",
    "            node.right = self.head\n",
    "            self.head = node\n",
    "        else:\n",
    "            self.head.value = value\n",
    "        self.size += 1\n",
    "      \n",
    "    def pop(self):           #pop - удаляет элемент в верхней части стека\n",
    "        if self.is_empty():\n",
    "            return println(\"Стек пуст\")\n",
    "        remove = self.head\n",
    "        if self.size > 1:\n",
    "            self.head = remove.right\n",
    "        self.size -= 1\n",
    "        return remove.value\n",
    "    \n",
    "    def peek(self):        #peek - возвращается к верхнему элементу стека\n",
    "        if self.is_empty():\n",
    "            return println(\"Стек пуст\")\n",
    "        return self.head.value\n",
    "    \n",
    "    def __len__(self):     #возвращает количество элементов в стеке\n",
    "        return self.size\n",
    "\n",
    "    def reverse(self):    #реверс\n",
    "        current = self.head\n",
    "        prev = None\n",
    "        next = None\n",
    " \n",
    "        while current is not None:\n",
    "            next = current.right\n",
    "            current.right = prev\n",
    "            prev = current\n",
    "            current = next\n",
    "\n",
    "        self.head = prev\n",
    "#Дек     \n",
    "class Deque:\n",
    "    def __init__(self):         #инициализация\n",
    "        self.head = LinkedNode()\n",
    "        self.tail = self.head\n",
    "        self.size = 0\n",
    "    \n",
    "    def is_empty(self):         #is_empty - определить, пусто ли оно\n",
    "        return self.size == 0\n",
    "\n",
    "    def push_left(self, value): #добавляет к началу двухсторонней очереди  \n",
    "        if self.size > 0:\n",
    "            node = LinkedNode(value)\n",
    "            node.right = self.tail\n",
    "            self.tail.left = node\n",
    "            self.tail = node\n",
    "        else:\n",
    "            self.tail.value = value\n",
    "        self.size += 1\n",
    "\n",
    "    def push(self, value):     #добавляет к концу двухсторонней очереди \n",
    "        if self.size > 0:\n",
    "            node = LinkedNode(value)\n",
    "            node.left = self.head\n",
    "            self.head.right = node\n",
    "            self.head = node\n",
    "        else:\n",
    "            self.head.value = value\n",
    "        self.size += 1\n",
    "    \n",
    "    def pop_left(self):  #удаляет и возвращает элемент с левой стороны двусторонней очереди\n",
    "        if self.is_empty():\n",
    "            return println(\"Стек пуст\")\n",
    "        remove = self.tail\n",
    "        if self.size > 1:\n",
    "            self.tail = remove.right\n",
    "        self.size -= 1\n",
    "        return remove.value\n",
    "    \n",
    "    def pop(self):       #удаляет и возвращает элемент с правой стороны двусторонней очереди\n",
    "        if self.is_empty():\n",
    "            return println(\"Стек пуст\")\n",
    "        remove = self.head\n",
    "        if self.size > 1:\n",
    "            self.head = remove.left\n",
    "        self.size -= 1\n",
    "        return remove.value\n",
    "    \n",
    "    def peek(self):      #возвращает элемент начала, не удаляя его\n",
    "        if self.is_empty():\n",
    "            return println(\"Стек пуст\")\n",
    "        return self.head.value\n",
    "    \n",
    "    def peek_left(self):  #возвращает элемент начала, не удаляя его\n",
    "        if self.is_empty():\n",
    "            return println(\"Стек пуст\")\n",
    "        return self.tail.value\n",
    "\n",
    "    def __len__(self):    #возвращает количество элементов в двухсторонней очереди\n",
    "        return self.size"
   ]
  },
  {
   "cell_type": "markdown",
   "id": "5d7edb08",
   "metadata": {
    "scrolled": true
   },
   "source": [
    "### Задание №1\n",
    "Отсортировать строки файла, содержащие названия книг, в алфавитном порядке с использованием двух деков."
   ]
  },
  {
   "cell_type": "code",
   "execution_count": 6,
   "id": "17702ade",
   "metadata": {},
   "outputs": [
    {
     "name": "stdout",
     "output_type": "stream",
     "text": [
      "Американская трагедия\n",
      "\n",
      "Введение в психоанализ\n",
      "\n",
      "Война и мир\n",
      "\n",
      "Голова профессора Доуэля\n",
      "\n",
      "Гордость и предубеждение\n",
      "\n",
      "Госпожа Бовари\n",
      "\n",
      "Двенадцать стульев\n",
      "\n",
      "Доводы рассудка\n",
      "\n",
      "Жутко громко и запредельно близко\n",
      "\n",
      "Красное и черное\n",
      "\n",
      "Крестный отец\n",
      "\n",
      "Лолита\n",
      "\n",
      "Мертвые души\n",
      "\n",
      "Мечтают ли андройды об электроовцах\n",
      "\n",
      "Моби Дик или Белый кит\n",
      "\n",
      "На западном фронте без перемен\n",
      "\n",
      "О дивный новый мир\n",
      "\n",
      "Палата №6\n",
      "\n",
      "По ком звонит колокол\n",
      "\n",
      "Портрет Дориана Грея\n",
      "\n",
      "Преступление и наказание\n",
      "\n",
      "Процесс\n",
      "\n",
      "Сердце тьмы\n",
      "\n",
      "Скотный двор\n",
      "\n",
      "Стоик\n",
      "Титан\n",
      "\n",
      "Триумфальная арка\n",
      "\n",
      "Финансист\n",
      "\n",
      "Холодный дом\n",
      "\n",
      "Человек-амфибия\n",
      "\n",
      "Что делать\n",
      "\n",
      "Ярмарка тщеславия\n",
      "\n"
     ]
    }
   ],
   "source": [
    "with open('BooksList.txt','r') as books:\n",
    "    books=open('BooksList.txt','r',encoding=\"utf8\")\n",
    "    q1 = Deque()\n",
    "    q2 = Deque()\n",
    "    for book in books:\n",
    "        q1.push(book)\n",
    "    while not q1.is_empty():\n",
    "        x = q1.pop()\n",
    "        while not q2.is_empty() and q2.peek() > x:\n",
    "            q1.push_left(q2.pop())\n",
    "        q2.push(x)\n",
    "    while not q2.is_empty():\n",
    "        print(q2.pop_left())"
   ]
  },
  {
   "cell_type": "markdown",
   "id": "49fbd2a0",
   "metadata": {},
   "source": [
    "### Задание №2\n",
    "Дек содержит последовательность символов для шифровки сообщений. Дан текстовый файл, содержащий зашифрованное сообщение. Пользуясь деком, расшифровать текст. \n",
    "Известно, что при шифровке каждый символ сообщения заменялся следующим за ним в деке по часовой стрелке через один."
   ]
  },
  {
   "cell_type": "code",
   "execution_count": 12,
   "id": "2ded9970",
   "metadata": {},
   "outputs": [],
   "source": [
    "alphabet = list('абвгдеёжзийклмнопрстуфхцчшщъыьэюя')\n",
    "key = Deque()\n",
    "for letter in alphabet:\n",
    "    key.push(letter)\n",
    "\n",
    "#кодировка\n",
    "def encode(c):\n",
    "    for i in range(len(key)):\n",
    "        x = key.pop_left()\n",
    "        if x == c:\n",
    "            key.push(x)\n",
    "            val = key.pop_left()\n",
    "            key.push(val)\n",
    "            return val\n",
    "        key.push(x)\n",
    "#декодировка\n",
    "def decode(c):\n",
    "    for i in range(len(key)):\n",
    "        x = key.pop()\n",
    "        if x == c:\n",
    "            key.push_left(x)\n",
    "            val = key.pop()\n",
    "            key.push_left(val)\n",
    "            return val\n",
    "        key.push_left(x)"
   ]
  },
  {
   "cell_type": "code",
   "execution_count": 48,
   "id": "1ef24a84",
   "metadata": {},
   "outputs": [
    {
     "name": "stdout",
     "output_type": "stream",
     "text": [
      "йммятусбчйа мяетлпк вётрёшоптуй\n",
      "иллюстрация людской беспечности\n"
     ]
    }
   ],
   "source": [
    "text = 'Иллюстрация людской беспечности'.lower()\n",
    "\n",
    "encoded = ''\n",
    "for letter in text:\n",
    "    if encoded_letter := encode(letter):\n",
    "        encoded += encoded_letter\n",
    "    else:\n",
    "        encoded += letter\n",
    "\n",
    "print(encoded)\n",
    "\n",
    "decoded = ''\n",
    "for letter in encoded:\n",
    "    if decoded_letter := decode(letter):\n",
    "        decoded += decoded_letter\n",
    "    else:\n",
    "        decoded += letter\n",
    "print(decoded)"
   ]
  },
  {
   "cell_type": "markdown",
   "id": "c0894f47",
   "metadata": {},
   "source": [
    "### Задание №3\n",
    "Даны три стержня и n дисков различного размера. Диски можно надевать на стержни, образуя из них башни. Перенести n дисков со стержня А на стержень С, сохранив их первоначальный порядок. При переносе дисков необходимо соблюдать следующие правила:\n",
    "- на каждом шаге со стержня на стержень переносить только один диск;\n",
    "- диск нельзя помещать на диск меньшего размера;\n",
    "- для промежуточного хранения можно использовать стержень В.\n",
    "Реализовать алгоритм, используя три стека вместо стержней А, В, С. Информация о дисках хранится в исходном файле."
   ]
  },
  {
   "cell_type": "code",
   "execution_count": 19,
   "id": "9e91a9d4",
   "metadata": {},
   "outputs": [
    {
     "name": "stdout",
     "output_type": "stream",
     "text": [
      "1\n",
      "2\n",
      "3\n",
      "4\n",
      "5\n",
      "6\n"
     ]
    }
   ],
   "source": [
    "A = Stack()\n",
    "B = Stack()\n",
    "C = Stack()\n",
    "\n",
    "disks = 6\n",
    "\n",
    "for i in range(disks, 0, -1):\n",
    "    A.push(i)\n",
    "\n",
    "def move(a, b):\n",
    "    if len(a) == 0 and len(b) > 0:\n",
    "        a.push(b.pop())\n",
    "    elif len(a) > 0 and len(b) == 0:\n",
    "        b.push(a.pop())\n",
    "    elif a.peek() > b.peek():\n",
    "        a.push(b.pop())\n",
    "    else:\n",
    "        b.push(a.pop())\n",
    "\n",
    "if disks % 2 == 0:\n",
    "    while len(C) != disks:\n",
    "        move(A, B)\n",
    "        move(A, C)\n",
    "        move(B, C)\n",
    "else:\n",
    "    while len(C) != disks:\n",
    "        move(A, C)\n",
    "        move(A, B)\n",
    "        move(B, C)\n",
    "\n",
    "while not C.is_empty():\n",
    "    print(C.pop())"
   ]
  },
  {
   "cell_type": "markdown",
   "id": "e5b0be17",
   "metadata": {},
   "source": [
    "### Задание №4\n",
    "Дан текстовый файл с программой на алгоритмическом языке. За один просмотр файла проверить баланс круглых скобок в тексте, используя стек."
   ]
  },
  {
   "cell_type": "code",
   "execution_count": 32,
   "id": "5b1df60a",
   "metadata": {},
   "outputs": [
    {
     "name": "stdout",
     "output_type": "stream",
     "text": [
      "True\n",
      "False\n"
     ]
    }
   ],
   "source": [
    "def check_brackets(string):\n",
    "    bracket_stack = Stack()\n",
    "    for i in string:\n",
    "        if i == '(':\n",
    "            bracket_stack.push(i)\n",
    "        elif i == ')':\n",
    "            if bracket_stack.is_empty():\n",
    "                return False\n",
    "            bracket_stack.pop()\n",
    "    return bracket_stack.is_empty()\n",
    "\n",
    "print(check_brackets('((()))((()))'))\n",
    "print(check_brackets('(()()()()())((()'))"
   ]
  },
  {
   "cell_type": "markdown",
   "id": "c44cdd6b",
   "metadata": {},
   "source": [
    "### Задание №5\n",
    "Дан текстовый файл с программой на алгоритмическом языке. За один просмотр файла проверить баланс квадратных скобок в тексте, используя дек."
   ]
  },
  {
   "cell_type": "code",
   "execution_count": 31,
   "id": "36b8f400",
   "metadata": {},
   "outputs": [
    {
     "name": "stdout",
     "output_type": "stream",
     "text": [
      "True\n",
      "False\n"
     ]
    }
   ],
   "source": [
    "def check_square_brackets(string):\n",
    "    bracket_stack = Deque()\n",
    "    for i in string:\n",
    "        if i == '[':\n",
    "            bracket_stack.push(i)\n",
    "        elif i == ']':\n",
    "            if bracket_stack.is_empty():\n",
    "                return False\n",
    "            bracket_stack.pop()\n",
    "    return bracket_stack.is_empty()\n",
    "print(check_square_brackets('[[[]]][][[]]'))\n",
    "print(check_square_brackets('[[]]]]][[]]'))"
   ]
  },
  {
   "cell_type": "markdown",
   "id": "59d13dc7",
   "metadata": {},
   "source": [
    "### Задание №6\n",
    "Дан файл из символов. Используя стек, за один просмотр файла напечатать сначала все цифры, затем все буквы, и, наконец, все остальные символы, сохраняя исходный порядок в каждой группе символов."
   ]
  },
  {
   "cell_type": "code",
   "execution_count": 41,
   "id": "297e36c2",
   "metadata": {},
   "outputs": [
    {
     "name": "stdout",
     "output_type": "stream",
     "text": [
      "03032245Фараоновфаворитнасапфирсменилнефрит(!&?)       \n"
     ]
    }
   ],
   "source": [
    "text = '(0!3&0?)Фараонов фаворит 322 на сапфир 45 сменил нефрит'\n",
    "letters = Stack()\n",
    "digits = Stack()\n",
    "others = Stack()\n",
    "for c in text:\n",
    "    if c.isalpha():\n",
    "        letters.push(c)\n",
    "    elif c.isdigit():\n",
    "        digits.push(c)\n",
    "    else:\n",
    "        others.push(c)\n",
    "new_text = ''\n",
    "letters.reverse()\n",
    "digits.reverse()\n",
    "others.reverse()\n",
    "while not digits.is_empty():\n",
    "    new_text += digits.pop()\n",
    "while not letters.is_empty():\n",
    "    new_text += letters.pop()\n",
    "while not others.is_empty():\n",
    "    new_text += others.pop()\n",
    "print(new_text)"
   ]
  },
  {
   "cell_type": "markdown",
   "id": "973f68bd",
   "metadata": {},
   "source": [
    "### Задание №7\n",
    "Дан файл из целых чисел. Используя дек, за один просмотр файла напечатать сначала все отрицательные числа, затем все положительные числа, сохраняя исходный порядок в каждой группе."
   ]
  },
  {
   "cell_type": "code",
   "execution_count": 46,
   "id": "c56fad66",
   "metadata": {},
   "outputs": [
    {
     "name": "stdout",
     "output_type": "stream",
     "text": [
      "[-2, 9, 10, -2, 10, 5, 11, 10, -12, 7, 3, 1, -9]\n",
      "-2\n",
      "-2\n",
      "-12\n",
      "-9\n",
      "9\n",
      "10\n",
      "10\n",
      "5\n",
      "11\n",
      "10\n",
      "7\n",
      "3\n",
      "1\n"
     ]
    }
   ],
   "source": [
    "import random\n",
    "numbers = [random.randint(-13, 13) for i in range(13)]\n",
    "print(numbers)\n",
    "deque = Deque()\n",
    "for n in numbers:\n",
    "    if n < 0:\n",
    "        deque.push_left(n)\n",
    "    else:\n",
    "        deque.push(n)\n",
    "while not deque.is_empty():\n",
    "    x = deque.pop_left()\n",
    "    if x < 0:\n",
    "        deque.push(x)\n",
    "    else:\n",
    "        deque.push_left(x)\n",
    "        break\n",
    "while not deque.is_empty():\n",
    "    x = deque.pop()\n",
    "    if x < 0:\n",
    "        print(x)\n",
    "    else:\n",
    "        deque.push(x)\n",
    "        break\n",
    "while not deque.is_empty():\n",
    "    print(deque.pop_left())"
   ]
  },
  {
   "cell_type": "markdown",
   "id": "b9228191",
   "metadata": {},
   "source": [
    "### Задание №8\n",
    "Дан текстовый файл. Используя стек, сформировать новый текстовый файл, содержащий строки исходного файла, записанные в обратном порядке: первая строка становится последней, вторая – предпоследней и т.д."
   ]
  },
  {
   "cell_type": "code",
   "execution_count": 47,
   "id": "981fbdfe",
   "metadata": {},
   "outputs": [
    {
     "name": "stdout",
     "output_type": "stream",
     "text": [
      "Моби Дик или Белый кит\n",
      "Мертвые души\n",
      "Холодный дом\n",
      "Гордость и предубеждение\n",
      "Ярмарка тщеславия\n",
      "Война и мир\n",
      "Госпожа Бовари\n",
      "Преступление и наказание\n",
      "Красное и черное\n",
      "Доводы рассудка\n",
      "Введение в психоанализ\n",
      "Сердце тьмы\n",
      "Портрет Дориана Грея\n",
      "Американская трагедия\n",
      "Лолита\n",
      "Крестный отец\n",
      "Палата №6\n",
      "О дивный новый мир\n",
      "Мечтают ли андройды об электроовцах\n",
      "Голова профессора Доуэля\n",
      "Что делать\n",
      "Скотный двор\n",
      "Человек-амфибия\n",
      "Процесс\n",
      "Двенадцать стульев\n",
      "По ком звонит колокол\n",
      "Триумфальная арка\n",
      "На западном фронте без перемен\n",
      "Жутко громко и запредельно близко\n",
      "Финансист\n",
      "Титан\n",
      "Стоик\n",
      "\n",
      "Стоик\n",
      "Титан\n",
      "Финансист\n",
      "Жутко громко и запредельно близко\n",
      "На западном фронте без перемен\n",
      "Триумфальная арка\n",
      "По ком звонит колокол\n",
      "Двенадцать стульев\n",
      "Процесс\n",
      "Человек-амфибия\n",
      "Скотный двор\n",
      "Что делать\n",
      "Голова профессора Доуэля\n",
      "Мечтают ли андройды об электроовцах\n",
      "О дивный новый мир\n",
      "Палата №6\n",
      "Крестный отец\n",
      "Лолита\n",
      "Американская трагедия\n",
      "Портрет Дориана Грея\n",
      "Сердце тьмы\n",
      "Введение в психоанализ\n",
      "Доводы рассудка\n",
      "Красное и черное\n",
      "Преступление и наказание\n",
      "Госпожа Бовари\n",
      "Война и мир\n",
      "Ярмарка тщеславия\n",
      "Гордость и предубеждение\n",
      "Холодный дом\n",
      "Мертвые души\n",
      "Моби Дик или Белый кит\n"
     ]
    }
   ],
   "source": [
    "with open('BooksList.txt', 'r') as books:\n",
    "    books=open('BooksList.txt','r', encoding='utf8')\n",
    "    stack = Stack()\n",
    "    for book in books:\n",
    "        book = book.strip()\n",
    "        print(book)\n",
    "        stack.push(book)\n",
    "    print()\n",
    "    while not stack.is_empty():\n",
    "        print(stack.pop())"
   ]
  },
  {
   "cell_type": "markdown",
   "id": "rental-jerusalem",
   "metadata": {},
   "source": [
    "### Вывод\n"
   ]
  },
  {
   "cell_type": "markdown",
   "id": "0c2b8899",
   "metadata": {},
   "source": [
    "В процессе выполнения лабораторной работы были такие структуры данных, как стек и дек, а также с ними были выполнены различные операции в виде заданий 1-8."
   ]
  }
 ],
 "metadata": {
  "kernelspec": {
   "display_name": "Python 3 (ipykernel)",
   "language": "python",
   "name": "python3"
  },
  "language_info": {
   "codemirror_mode": {
    "name": "ipython",
    "version": 3
   },
   "file_extension": ".py",
   "mimetype": "text/x-python",
   "name": "python",
   "nbconvert_exporter": "python",
   "pygments_lexer": "ipython3",
   "version": "3.9.7"
  }
 },
 "nbformat": 4,
 "nbformat_minor": 5
}
