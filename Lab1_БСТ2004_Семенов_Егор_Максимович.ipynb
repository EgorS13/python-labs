{
 "cells": [
  {
   "cell_type": "markdown",
   "id": "324daa56",
   "metadata": {},
   "source": [
    "# Лабораторная работа №1\n",
    "## Выполнил студент группы БСТ2004 Семенов Егор Максимович\n",
    "### Цель:\n",
    "Ознакомиться с синтаксисом python'а, а также научиться работать с методами сортировки многомерных матриц.\n",
    "\n",
    "### Задание №1\n",
    "Описание условий задания:\n",
    "1. Создать Jupyter Notebook со следующим наименованием: Lab1_Группа_ФИО\n",
    "2. Создать новую ячейку\n",
    "3. Вывести \"Hello, World!\"\n",
    "4. Запустить выполнение всех ячеек"
   ]
  },
  {
   "cell_type": "code",
   "execution_count": 1,
   "id": "88e98d8e",
   "metadata": {},
   "outputs": [
    {
     "name": "stdout",
     "output_type": "stream",
     "text": [
      "Hello, World!\n"
     ]
    }
   ],
   "source": [
    "print(\"Hello, World!\")"
   ]
  },
  {
   "cell_type": "markdown",
   "id": "577e8d09",
   "metadata": {},
   "source": [
    "### Задание №2\n",
    "\n",
    "Написать генератор случайных матриц(многомерных), который принимает\n",
    "опциональные параметры m, n, min_limit, max_limit, где m и n указывают размер\n",
    "матрицы, а min_lim и max_lim - минимальное и максимальное значение для\n",
    "генерируемого числа . По умолчанию при отсутствии параметров принимать следующие значения:\n",
    "m = 50\n",
    "n = 50\n",
    "min_limit = -250\n",
    "max_limit = 1000 + (номер своего варианта)\n"
   ]
  },
  {
   "cell_type": "code",
   "execution_count": 7,
   "id": "1372ea22",
   "metadata": {},
   "outputs": [
    {
     "name": "stdout",
     "output_type": "stream",
     "text": [
      "Количество строк матрицы = 5\n",
      "Количество столбцов матрицы = 5\n",
      "Сгенерированная матрица: \n",
      "46 -229 -171 793 938 \n",
      "346 301 938 965 867 \n",
      "368 -237 -150 416 797 \n",
      "298 627 937 495 -1 \n",
      "-17 324 -20 898 -110 \n"
     ]
    }
   ],
   "source": [
    "import random\n",
    "import timeit\n",
    "def generate_matrix(matrix, n, m):\n",
    "    for i in range(N):\n",
    "        for j in range(M):\n",
    "            A[i][j] = random.randint(-250, 1014)\n",
    "def out_matrix(matrix, n, m):\n",
    "    for i in range(len(A)):\n",
    "        for j in range(len(A[i])):\n",
    "            print(A[i][j], end = ' ')\n",
    "        print()\n",
    "\n",
    "N = int(input('Количество строк матрицы = '))\n",
    "M = int(input('Количество столбцов матрицы = '))\n",
    "A = [ [0]*M for i in range(N) ]\n",
    "generate_matrix(A, N, M)\n",
    "print(\"Сгенерированная матрица: \")\n",
    "out_matrix(A, N, M)"
   ]
  },
  {
   "cell_type": "markdown",
   "id": "6f4599cb",
   "metadata": {},
   "source": [
    "### Задание №3\n",
    "\n",
    "Реализовать методы сортировки строк числовой матрицы в соответствии с\n",
    "заданием. Оценить время работы каждого алгоритма сортировки и сравнить его со\n",
    "временем стандартной функции сортировки. Испытания проводить на сгенерированных\n",
    "матрицах.\n",
    "Методы: выбором, вставкой, обменом, шелла, быстрая сортировка, пирамидальная"
   ]
  },
  {
   "cell_type": "code",
   "execution_count": 8,
   "id": "9b43aaac",
   "metadata": {},
   "outputs": [
    {
     "name": "stdout",
     "output_type": "stream",
     "text": [
      "Количество строк матрицы = 5\n",
      "Количество столбцов матрицы = 5\n",
      "Сгенерированная матрица: \n",
      "211 215 428 12 611 \n",
      "114 769 379 366 915 \n",
      "578 -116 325 872 -218 \n",
      "718 593 313 962 408 \n",
      "367 708 726 -32 733 \n",
      "Начало работы сортировки \n",
      "Отсортированная матрица: \n",
      "12 211 215 428 611 \n",
      "114 366 379 769 915 \n",
      "-218 -116 325 578 872 \n",
      "313 408 593 718 962 \n",
      "-32 367 708 726 733 \n",
      "Метод сортировки работал: 0.00015659999917261302 секунд\n"
     ]
    }
   ],
   "source": [
    "import random\n",
    "import timeit\n",
    "def generate_matrix(matrix, n, m):\n",
    "    for i in range(N):\n",
    "        for j in range(M):\n",
    "            A[i][j] = random.randint(-250, 1014)\n",
    "def out_matrix(matrix, n, m):\n",
    "    for i in range(len(A)):\n",
    "        for j in range(len(A[i])):\n",
    "            print(A[i][j], end = ' ')\n",
    "        print()\n",
    "# Сортировка выбором\n",
    "def sel_sort(matrix):\n",
    "    for i in range(0, len(matrix) - 1):\n",
    "        tiniest = i\n",
    "        for j in range(i + 1, len(matrix)):\n",
    "            if matrix[j] < matrix[tiniest]:\n",
    "                tiniest = j\n",
    "        matrix[i], matrix[tiniest] = matrix[tiniest], matrix[i]\n",
    "\n",
    "N = int(input('Количество строк матрицы = '))\n",
    "M = int(input('Количество столбцов матрицы = '))\n",
    "A = [ [0]*M for i in range(N) ]\n",
    "generate_matrix(A, N, M)\n",
    "print(\"Сгенерированная матрица: \")\n",
    "out_matrix(A, N, M)\n",
    "starttime = timeit.default_timer()\n",
    "print(\"Начало работы сортировки \")\n",
    "for row in range(len(A)):\n",
    "     sel_sort(A[row])\n",
    "endtime = timeit.default_timer()\n",
    "print (\"Отсортированная матрица: \")\n",
    "out_matrix(A, N, M)\n",
    "print(\"Метод сортировки работал:\", endtime - starttime, \"секунд\")\n"
   ]
  },
  {
   "cell_type": "code",
   "execution_count": 9,
   "id": "b52f6186",
   "metadata": {},
   "outputs": [
    {
     "name": "stdout",
     "output_type": "stream",
     "text": [
      "Количество строк матрицы = 5\n",
      "Количество столбцов матрицы = 5\n",
      "Сгенерированная матрица: \n",
      "174 -179 974 89 774 \n",
      "-108 507 -132 436 723 \n",
      "153 -3 -128 599 -136 \n",
      "632 102 142 329 381 \n",
      "804 387 947 -75 -71 \n",
      "Начало работы сортировки \n",
      "Отсортированная матрица: \n",
      "-179 89 174 774 974 \n",
      "-132 -108 436 507 723 \n",
      "-136 -128 -3 153 599 \n",
      "102 142 329 381 632 \n",
      "-75 -71 387 804 947 \n",
      "Метод сортировки работал: 8.830000297166407e-05 секунд\n"
     ]
    }
   ],
   "source": [
    "import random\n",
    "import timeit\n",
    "# Сортировка вставками\n",
    "def ins_sort(matrix):\n",
    "    for i in range(1, len(matrix)):\n",
    "        cur = matrix[i]\n",
    "        j = i-1\n",
    "        while j >=0 and cur < matrix[j] :\n",
    "            matrix[j+1] = matrix[j]\n",
    "            j -= 1\n",
    "        matrix[j+1] = cur\n",
    "\n",
    "N = int(input('Количество строк матрицы = '))\n",
    "M = int(input('Количество столбцов матрицы = '))\n",
    "A = [ [0]*M for i in range(N) ]\n",
    "generate_matrix(A, N, M)\n",
    "print(\"Сгенерированная матрица: \")\n",
    "out_matrix(A, N, M)\n",
    "starttime = timeit.default_timer()\n",
    "print(\"Начало работы сортировки \")\n",
    "for row in range(len(A)):\n",
    "     ins_sort(A[row])\n",
    "endtime = timeit.default_timer()\n",
    "print (\"Отсортированная матрица: \")\n",
    "out_matrix(A, N, M)\n",
    "print(\"Метод сортировки работал:\", endtime - starttime, \"секунд\")\n"
   ]
  },
  {
   "cell_type": "code",
   "execution_count": 10,
   "id": "65bf36cb",
   "metadata": {},
   "outputs": [
    {
     "name": "stdout",
     "output_type": "stream",
     "text": [
      "Количество строк матрицы = 5\n",
      "Количество столбцов матрицы = 5\n",
      "Сгенерированная матрица: \n",
      "309 179 503 777 597 \n",
      "174 26 -250 777 560 \n",
      "481 -13 686 392 735 \n",
      "506 383 335 -208 351 \n",
      "-142 915 -250 199 100 \n",
      "Начало работы сортировки \n",
      "Отсортированная матрица: \n",
      "179 309 503 597 777 \n",
      "-250 26 174 560 777 \n",
      "-13 392 481 686 735 \n",
      "-208 335 351 383 506 \n",
      "-250 -142 100 199 915 \n",
      "Метод сортировки работал: 0.00022069999249652028 секунд\n"
     ]
    }
   ],
   "source": [
    "import random\n",
    "import timeit\n",
    "# Сортировка обменом\n",
    "def obm_sort(matrix):\n",
    "    for i in range(N-1):\n",
    "        for j in range(N-i-1):\n",
    "            if matrix[j] > matrix[j+1]:\n",
    "                bobm = matrix[j]\n",
    "                matrix[j] = matrix[j+1]\n",
    "                matrix[j+1] = bobm\n",
    "\n",
    "N = int(input('Количество строк матрицы = '))\n",
    "M = int(input('Количество столбцов матрицы = '))\n",
    "A = [ [0]*M for i in range(N) ]\n",
    "generate_matrix(A, N, M)\n",
    "print(\"Сгенерированная матрица: \")\n",
    "out_matrix(A, N, M)\n",
    "starttime = timeit.default_timer()\n",
    "print(\"Начало работы сортировки \")\n",
    "for row in range(len(A)):\n",
    "     obm_sort(A[row])\n",
    "endtime = timeit.default_timer()\n",
    "print (\"Отсортированная матрица: \")\n",
    "out_matrix(A, N, M)\n",
    "print(\"Метод сортировки работал:\", endtime - starttime, \"секунд\")\n"
   ]
  },
  {
   "cell_type": "code",
   "execution_count": 12,
   "id": "62be851e",
   "metadata": {},
   "outputs": [
    {
     "name": "stdout",
     "output_type": "stream",
     "text": [
      "Количество строк матрицы = 5\n",
      "Количество столбцов матрицы = 5\n",
      "Сгенерированная матрица: \n",
      "729 284 862 381 957 \n",
      "704 699 96 275 895 \n",
      "473 114 -92 310 932 \n",
      "723 376 684 108 274 \n",
      "761 618 670 128 925 \n",
      "Начало работы сортировки \n",
      "Отсортированная матрица: \n",
      "284 381 729 862 957 \n",
      "96 275 699 704 895 \n",
      "-92 114 310 473 932 \n",
      "108 274 376 684 723 \n",
      "128 618 670 761 925 \n",
      "Метод сортировки работал: 0.0002727999963099137 секунд\n"
     ]
    }
   ],
   "source": [
    "import random\n",
    "import timeit\n",
    "import math\n",
    "# Сортировка Шелла\n",
    "def shell_sort(matrix):\n",
    "    n = len(matrix)\n",
    "    k = int(math.log2(n))\n",
    "    interval = 2**k -1\n",
    "    while interval > 0:\n",
    "        for i in range(interval, n):\n",
    "            bobm = matrix[i]\n",
    "            j = i\n",
    "            while j >= interval and matrix[j - interval] > bobm:\n",
    "                matrix[j] = matrix[j - interval]\n",
    "                j -= interval\n",
    "            matrix[j] = bobm\n",
    "        k -= 1\n",
    "        interval = 2**k -1\n",
    "\n",
    "N = int(input('Количество строк матрицы = '))\n",
    "M = int(input('Количество столбцов матрицы = '))\n",
    "A = [ [0]*M for i in range(N) ]\n",
    "generate_matrix(A, N, M)\n",
    "print(\"Сгенерированная матрица: \")\n",
    "out_matrix(A, N, M)\n",
    "starttime = timeit.default_timer()\n",
    "print(\"Начало работы сортировки \")\n",
    "for row in range(len(A)):\n",
    "     shell_sort(A[row])\n",
    "endtime = timeit.default_timer()\n",
    "print (\"Отсортированная матрица: \")\n",
    "out_matrix(A, N, M)\n",
    "print(\"Метод сортировки работал:\", endtime - starttime, \"секунд\")\n"
   ]
  },
  {
   "cell_type": "code",
   "execution_count": 15,
   "id": "42a5bf92",
   "metadata": {},
   "outputs": [
    {
     "name": "stdout",
     "output_type": "stream",
     "text": [
      "Количество строк матрицы = 5\n",
      "Количество столбцов матрицы = 5\n",
      "Сгенерированная матрица: \n",
      "873 59 411 758 316 \n",
      "741 -183 247 641 -103 \n",
      "536 285 724 385 -181 \n",
      "113 415 434 659 -93 \n",
      "723 762 57 16 594 \n",
      "Начало работы сортировки \n",
      "Отсортированная матрица: \n",
      "59 316 411 758 873 \n",
      "-183 -103 247 641 741 \n",
      "-181 285 385 536 724 \n",
      "-93 113 415 434 659 \n",
      "16 57 594 723 762 \n",
      "Метод сортировки работал: 0.00020009999570902437 секунд\n"
     ]
    }
   ],
   "source": [
    "import random\n",
    "import timeit\n",
    "# Быстрая сортировка\n",
    "def partition(nums, low, high):\n",
    "    # Выбираем средний элемент в качестве опорного\n",
    "    pivot = nums[(low + high) // 2]\n",
    "    i = low - 1\n",
    "    j = high + 1\n",
    "    while True:\n",
    "        i += 1\n",
    "        while nums[i] < pivot:\n",
    "            i += 1\n",
    "        j -= 1\n",
    "        while nums[j] > pivot:\n",
    "            j -= 1\n",
    "        if i >= j:\n",
    "            return j\n",
    "        # Если элемент с индексом i больше, чем\n",
    "        # элемент с индексом j, меняем их местами\n",
    "        nums[i], nums[j] = nums[j], nums[i]\n",
    "\n",
    "def quick_sort(matrix):\n",
    "    def _quick_sort(items, low, high):\n",
    "        if low < high:\n",
    "            split_index = partition(items, low, high)\n",
    "            _quick_sort(items, low, split_index)\n",
    "            _quick_sort(items, split_index + 1, high)\n",
    "    _quick_sort(matrix, 0, len(matrix) - 1)\n",
    "\n",
    "N = int(input('Количество строк матрицы = '))\n",
    "M = int(input('Количество столбцов матрицы = '))\n",
    "A = [ [0]*M for i in range(N) ]\n",
    "generate_matrix(A, N, M)\n",
    "print(\"Сгенерированная матрица: \")\n",
    "out_matrix(A, N, M)\n",
    "starttime = timeit.default_timer()\n",
    "print(\"Начало работы сортировки \")\n",
    "for row in range(len(A)):\n",
    "     quick_sort(A[row])\n",
    "endtime = timeit.default_timer()\n",
    "print (\"Отсортированная матрица: \")\n",
    "out_matrix(A, N, M)\n",
    "print(\"Метод сортировки работал:\", endtime - starttime, \"секунд\")\n"
   ]
  },
  {
   "cell_type": "code",
   "execution_count": 16,
   "id": "b625ea1a",
   "metadata": {},
   "outputs": [
    {
     "name": "stdout",
     "output_type": "stream",
     "text": [
      "Количество строк матрицы = 5\n",
      "Количество столбцов матрицы = 5\n",
      "Сгенерированная матрица: \n",
      "-90 805 -119 936 811 \n",
      "926 709 698 140 -219 \n",
      "-3 573 1006 586 -222 \n",
      "470 625 -223 494 -34 \n",
      "317 530 85 650 180 \n",
      "Начало работы сортировки \n",
      "Отсортированная матрица: \n",
      "-119 -90 805 811 936 \n",
      "-219 140 698 709 926 \n",
      "-222 -3 573 586 1006 \n",
      "-223 -34 470 494 625 \n",
      "85 180 317 530 650 \n",
      "Метод сортировки работал: 0.0003004000027431175 секунд\n"
     ]
    }
   ],
   "source": [
    "import random\n",
    "import timeit\n",
    "# Пирамидальная сортировка\n",
    "def heap(matrix, heap_size, root_index):\n",
    "    largest = root_index\n",
    "    left_child = (2 * root_index) + 1\n",
    "    right_child = (2 * root_index) + 2\n",
    "    if left_child < heap_size and matrix[left_child] > matrix[largest]:\n",
    "        largest = left_child\n",
    "    if right_child < heap_size and matrix[right_child] > matrix[largest]:\n",
    "        largest = right_child\n",
    "    if largest != root_index:\n",
    "        matrix[root_index], matrix[largest] = matrix[largest], matrix[root_index]\n",
    "        heap(matrix, heap_size, largest)\n",
    "def pyr_sort(matrix):\n",
    "    n = len(matrix)\n",
    "    for i in range(n, -1, -1):\n",
    "        heap(matrix, n, i)\n",
    "    for i in range(n - 1, 0, -1):\n",
    "        matrix[i], matrix[0] = matrix[0], matrix[i]\n",
    "        heap(matrix, i, 0)\n",
    "        \n",
    "N = int(input('Количество строк матрицы = '))\n",
    "M = int(input('Количество столбцов матрицы = '))\n",
    "A = [ [0]*M for i in range(N) ]\n",
    "generate_matrix(A, N, M)\n",
    "print(\"Сгенерированная матрица: \")\n",
    "out_matrix(A, N, M)\n",
    "starttime = timeit.default_timer()\n",
    "print(\"Начало работы сортировки \")\n",
    "for row in range(len(A)):\n",
    "     pyr_sort(A[row])\n",
    "endtime = timeit.default_timer()\n",
    "print (\"Отсортированная матрица: \")\n",
    "out_matrix(A, N, M)\n",
    "print(\"Метод сортировки работал:\", endtime - starttime, \"секунд\")\n"
   ]
  },
  {
   "cell_type": "markdown",
   "id": "0a426f22",
   "metadata": {},
   "source": [
    "### Задание №4\n",
    "\n",
    "Создать публичный репозиторий на github и запушить выполненное задание в .ipynb формате."
   ]
  },
  {
   "cell_type": "markdown",
   "id": "881aa480",
   "metadata": {},
   "source": [
    "### Вывод:\n",
    "\n",
    "Ознакомился с синтаксисом python'а. Задания успешно выполнены, код протестирован."
   ]
  },
  {
   "cell_type": "code",
   "execution_count": null,
   "id": "237c6f97",
   "metadata": {},
   "outputs": [],
   "source": []
  }
 ],
 "metadata": {
  "kernelspec": {
   "display_name": "Python 3 (ipykernel)",
   "language": "python",
   "name": "python3"
  },
  "language_info": {
   "codemirror_mode": {
    "name": "ipython",
    "version": 3
   },
   "file_extension": ".py",
   "mimetype": "text/x-python",
   "name": "python",
   "nbconvert_exporter": "python",
   "pygments_lexer": "ipython3",
   "version": "3.9.7"
  }
 },
 "nbformat": 4,
 "nbformat_minor": 5
}
