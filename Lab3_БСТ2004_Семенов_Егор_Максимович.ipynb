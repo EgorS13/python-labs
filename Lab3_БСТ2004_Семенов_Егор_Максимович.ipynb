{
 "cells": [
  {
   "cell_type": "markdown",
   "id": "db4b50f0",
   "metadata": {},
   "source": [
    "# Лабораторная работа №3\n",
    "## Выполнил студент группы БСТ2004 Семенов Егор Максимович"
   ]
  },
  {
   "cell_type": "markdown",
   "id": "annual-symbol",
   "metadata": {},
   "source": [
    "### Оглавление\n",
    "1. [Задание 1](#Задание-№1)\n",
    "2. [Задание 2](#Задание-№2)\n",
    "4. [Вывод](#Вывод)"
   ]
  },
  {
   "cell_type": "markdown",
   "id": "independent-spirit",
   "metadata": {},
   "source": [
    "> Дополнительные модули, использованные при выполнение лабораторной"
   ]
  },
  {
   "cell_type": "code",
   "execution_count": 1,
   "id": "4839be2b",
   "metadata": {},
   "outputs": [],
   "source": [
    "# Необходим при замере скорости выполнения кода\n",
    "from datetime import datetime as t\n",
    "# Нужен для создания словаря в алг. Бойера-Мура\n",
    "from collections import defaultdict"
   ]
  },
  {
   "cell_type": "markdown",
   "id": "inclusive-motorcycle",
   "metadata": {},
   "source": [
    "### Задание №1\n",
    "Реализовать методы поиска подстроки в строке. Добавить возможность ввода строки и подстроки с клавиатуры. Предусмотреть возможность существования пробела. Реализовать возможность выбора опции чувствительности или нечувствительности к регистру. Оценить время работы каждого алгоритма поиска и сравнить его со временем работы стандартной функции поиска, используемой в выбранном языке программирования."
   ]
  },
  {
   "cell_type": "markdown",
   "id": "interracial-communication",
   "metadata": {},
   "source": [
    "#### Алгоритм Кнута-Морриса-Пратта"
   ]
  },
  {
   "cell_type": "code",
   "execution_count": 58,
   "id": "presidential-level",
   "metadata": {},
   "outputs": [
    {
     "name": "stdout",
     "output_type": "stream",
     "text": [
      "Введите строку: AB C D  E F GABGBFGCDE\n",
      "Введите подстроку: BFg\n",
      "Выключаем регистр? (Да/Нет) Да\n",
      "Выключаем пробелы? (Да/Нет) Да\n",
      "Теперь строка выглядит:  abcdefgabgbfgcde  , а подстрока:  bfg\n",
      "[(10, 13)]\n",
      "Алгоритм работал: 8.919999982026638e-05 секунд\n"
     ]
    }
   ],
   "source": [
    "import timeit\n",
    "\n",
    "#Префикс-функция\n",
    "def prefix(s):\n",
    "    #Префикс-функция от строки s и позиции i в ней - длина k\n",
    "    #наибольшего собственного префикса подстроки s[0:i],\n",
    "    #в который одновременно является суффиксом этой подстроки\n",
    "    p = [0] * len(s)\n",
    "    for i in range(1, len(s)):\n",
    "        k = p[i - 1] #Текущая длина префикса, который мы хотим продолжить. Гарантируется что s[0..k-1] = s[i-k..i-1]\n",
    "        while k > 0 and s[k] != s[i]: #Пока мы не можем продолжить текущий префикс\n",
    "            k = p[k - 1] #Уменьшаем его длину до следующей возможной\n",
    "        if s[k] == s[i]:\n",
    "            k += 1\n",
    "        p[i] = k #Такое может быть только при k = 0\n",
    "    return p\n",
    "\n",
    "#Алгоритм Кнута-Морриса-Пратта\n",
    "def KMP(s, ps):\n",
    "    if regoff:\n",
    "        s = s.lower()\n",
    "        ps = ps.lower()\n",
    "    if spcoff:\n",
    "        s = s.replace(\" \", \"\")\n",
    "    #s: Строка, по которой будет произведен поиск\n",
    "    #ps: Строка, которую будем искать\n",
    "    A = []\n",
    "    k = 0\n",
    "        \n",
    "    p = prefix(s)\n",
    "\n",
    "    for i in range(len(s)):\n",
    "        while k > 0 and s[i] != ps[k]:\n",
    "            k = p[k-1]\n",
    "        if s[i] == ps[k]:\n",
    "            k += 1\n",
    "        if k == len(ps):\n",
    "            A.append((i - len(ps) + 1, i+1))\n",
    "            k = p[k-1]\n",
    "\n",
    "    return A\n",
    "\n",
    "s = input(\"Введите строку: \")\n",
    "ps = input(\"Введите подстроку: \")\n",
    "regoff = input(\"Выключаем регистр? (Да/Нет) \")\n",
    "spcoff = input(\"Выключаем пробелы? (Да/Нет) \")\n",
    "if regoff == \"Да\":\n",
    "    s = s.lower()\n",
    "    ps = ps.lower()\n",
    "if spcoff == \"Да\":\n",
    "    s = s.replace(\" \", \"\")\n",
    "print(\"Теперь строка выглядит: \", s, \" , а подстрока: \", ps)\n",
    "starttime = timeit.default_timer()\n",
    "print(KMP(s, ps))\n",
    "endtime = timeit.default_timer()\n",
    "print(\"Алгоритм работал:\", endtime - starttime, \"секунд\")"
   ]
  },
  {
   "cell_type": "markdown",
   "id": "downtown-option",
   "metadata": {},
   "source": [
    "#### Упрощенный алгоритм Бойера-Мура"
   ]
  },
  {
   "cell_type": "code",
   "execution_count": 59,
   "id": "respective-reggae",
   "metadata": {},
   "outputs": [
    {
     "name": "stdout",
     "output_type": "stream",
     "text": [
      "Введите строку: ABCDEFGABGBFGCDE\n",
      "Введите подстроку: BFG\n",
      "Выключаем регистр? (Да/Нет) Нет\n",
      "Выключаем пробелы? (Да/Нет) Нет\n",
      "Теперь строка выглядит:  ABCDEFGABGBFGCDE  , а подстрока:  BFG\n",
      "[(10, 13)]\n",
      "Алгоритм работал: 0.00019300000076327706 секунд\n"
     ]
    }
   ],
   "source": [
    "#Упрощенный алгоритм Бойера-Мура\n",
    "\n",
    "def preprocess(ps):\n",
    "    #Строим таблицу смещений\n",
    "    T = [len(ps)]*256\n",
    "    for i in range(len(ps) - 1):\n",
    "        T[ord(ps[i])] = len(ps) - 1 - i #Сколько символов с правого края до этой буквы\n",
    "    return T\n",
    "\n",
    "def BM(s, ps):\n",
    "    A = []\n",
    "    T = preprocess(ps)\n",
    "    skip = 0\n",
    "    while len(s) - skip >= len(ps):  #Совпали, двигаемся дальше (от конца к началу)\n",
    "        if s[skip:skip + len(ps)] == ps:\n",
    "            A.append((skip, skip + len(ps)))\n",
    "        skip += T[ord(s[skip + len(ps) - 1])] #Иначе, продвигаемся по строке на d и начинаем с правого конца подстроки снова\n",
    "    return A\n",
    "\n",
    "s = input(\"Введите строку: \")\n",
    "ps = input(\"Введите подстроку: \")\n",
    "regoff = input(\"Выключаем регистр? (Да/Нет) \")\n",
    "spcoff = input(\"Выключаем пробелы? (Да/Нет) \")\n",
    "if regoff == \"Да\":\n",
    "    s = s.lower()\n",
    "    ps = ps.lower()\n",
    "if spcoff == \"Да\":\n",
    "    s = s.replace(\" \", \"\")\n",
    "print(\"Теперь строка выглядит: \", s, \" , а подстрока: \", ps)\n",
    "starttime = timeit.default_timer()\n",
    "print(BM(s, ps))\n",
    "endtime = timeit.default_timer()\n",
    "print(\"Алгоритм работал:\", endtime - starttime, \"секунд\")"
   ]
  },
  {
   "cell_type": "code",
   "execution_count": 60,
   "id": "a3283f5d",
   "metadata": {},
   "outputs": [
    {
     "name": "stdout",
     "output_type": "stream",
     "text": [
      "Введите строку: ABCDEFGABGBFGCDE\n",
      "Введите подстроку: BFG\n",
      "Выключаем регистр? (Да/Нет) Нет\n",
      "Выключаем пробелы? (Да/Нет) Нет\n",
      "Теперь строка выглядит:  ABCDEFGABGBFGCDE  , а подстрока:  BFG\n",
      "[(10, 13)]\n",
      "Алгоритм работал: 9.380000028613722e-05 секунд\n"
     ]
    }
   ],
   {
   "cell_type": "markdown",
   "id": "48368031",
   "metadata": {},
   "source": [
    "#### Встроенный алгоритм"
   ]
  },
   "source": [
    "def INBS(s, ps):\n",
    "    A = []\n",
    "    index = s.find(ps)\n",
    "    while index != -1:\n",
    "        A.append((index, index + len(ps)))\n",
    "        index = s.find(ps, index + 1)\n",
    "    return A\n",
    "\n",
    "s = input(\"Введите строку: \")\n",
    "ps = input(\"Введите подстроку: \")\n",
    "regoff = input(\"Выключаем регистр? (Да/Нет) \")\n",
    "spcoff = input(\"Выключаем пробелы? (Да/Нет) \")\n",
    "if regoff == \"Да\":\n",
    "    s = s.lower()\n",
    "    ps = ps.lower()\n",
    "if spcoff == \"Да\":\n",
    "    s = s.replace(\" \", \"\")\n",
    "print(\"Теперь строка выглядит: \", s, \" , а подстрока: \", ps)\n",
    "starttime = timeit.default_timer()\n",
    "print(INBS(s, ps))\n",
    "endtime = timeit.default_timer()\n",
    "print(\"Алгоритм работал:\", endtime - starttime, \"секунд\")"
   ]
  },
  {
   "cell_type": "markdown",
   "id": "6daa6e36",
   "metadata": {},
   "source": [
    "#### Наглядное сравнение алгоритмов"
   ]
  },
  {
   "cell_type": "code",
   "execution_count": 76,
   "id": "a3c580f3",
   "metadata": {},
   "outputs": [
    {
     "name": "stdout",
     "output_type": "stream",
     "text": [
      "[(10, 13)]\n",
      "Алгоритм Кнута-Морриса-Пратта работал: 0.00011900000026798807 секунд\n",
      "--------------------------------------------------------------------\n",
      "[(10, 13)]\n",
      "Алгоритм Бойера-Мура работал: 0.00010789999942062423 секунд\n",
      "--------------------------------------------------------------------\n",
      "[(10, 13)]\n",
      "Встроенный алгоритм работал: 0.00016479999976581894 секунд\n"
     ]
    }
   ],
   "source": [
    "starttime1 = timeit.default_timer()\n",
    "print(KMP('ABCDEFGABGBFGCDE', 'BFG'))\n",
    "endtime1 = timeit.default_timer()\n",
    "print(\"Алгоритм Кнута-Морриса-Пратта работал:\", endtime1 - starttime1, \"секунд\")\n",
    "print(\"--------------------------------------------------------------------\")\n",
    "starttime2 = timeit.default_timer()\n",
    "print(BM('ABCDEFGABGBFGCDE', 'BFG'))\n",
    "endtime2 = timeit.default_timer()\n",
    "print(\"Алгоритм Бойера-Мура работал:\", endtime2 - starttime2, \"секунд\")\n",
    "print(\"--------------------------------------------------------------------\")\n",
    "starttime3 = timeit.default_timer()\n",
    "print(INBS('ABCDEFGABGBFGCDE', 'BFG'))\n",
    "endtime3 = timeit.default_timer()\n",
    "print(\"Встроенный алгоритм работал:\", endtime3 - starttime3, \"секунд\")"
   ]
  },
  {
   "cell_type": "markdown",
   "id": "hybrid-memorial",
   "metadata": {},
   "source": [
    "### Задание №2\n",
    "Написать программу, определяющую, является ли данное\n",
    "расположение «решаемым», то есть можно ли из него за конечное число\n",
    "шагов перейти к правильному. Если это возможно, то необходимо найти хотя\n",
    "бы одно решение - последовательность движений, после которой числа будут\n",
    "расположены в правильном порядке.\n",
    "#### Входные данные: массив чисел, представляющий собой расстановку в\n",
    "Порядке «слева направо, сверху вниз». Число 0 обозначает пустое поле.\n",
    "Например, массив [1, 2, 3, 4, 5, 6, 7, 8, 9, 10, 11, 12, 13, 14, 15, 0] представляет\n",
    "собой «решенную» позицию элементов.\n",
    "#### Выходные данные: если решения нет, то функция должна вернуть\n",
    "Пустой массив []. Если решение есть, то необходимо представить решение —\n",
    "для каждого шага записывается номер передвигаемого на данном шаге\n",
    "элемента. "
   ]
  },
  {
   "cell_type": "code",
   "execution_count": 79,
   "id": "eleven-generic",
   "metadata": {},
   "outputs": [
    {
     "name": "stdout",
     "output_type": "stream",
     "text": [
      "  1  2  3  4\n",
      "  5  6  7  8\n",
      " 13  9 11 12\n",
      " 10 14 15  0\n",
      "\n",
      "[15, 14, 10, 13, 9, 10, 14, 15]\n"
     ]
    }
   ],
   "source": [
    "from queue import PriorityQueue\n",
    "\n",
    "N = 4\n",
    "\n",
    "def moves(position):\n",
    "    blank = position.index(0)\n",
    "    i, j = divmod(blank, N)\n",
    "    offsets = []\n",
    "    if i > 0: offsets.append(-N)     # вниз\n",
    "    if i < N - 1: offsets.append(N)  # вверх\n",
    "    if j > 0: offsets.append(-1)     # вправо\n",
    "    if j < N - 1: offsets.append(1)  # влево\n",
    "    for offset in offsets:\n",
    "        swap = blank + offset\n",
    "        yield tuple(position[swap] if x==blank else position[blank] if x==swap else position[x] for x in range(N*N))\n",
    "\n",
    "\n",
    "def parity(permutation):\n",
    "    seen, cycles = set(), 0\n",
    "    for i in permutation:\n",
    "        if i not in seen:\n",
    "            cycles += 1\n",
    "            while i not in seen:\n",
    "                seen.add(i)\n",
    "                i = permutation[i]\n",
    "    return (cycles + len(permutation)) % 2\n",
    "\n",
    "\n",
    "class Position:\n",
    "    def __init__(self, position, start_distance):\n",
    "        self.position = position\n",
    "        self.start_distance = start_distance\n",
    "\n",
    "    def __lt__(self, other):\n",
    "        return self.start_distance < other.start_distance\n",
    "\n",
    "    def __str__(self):\n",
    "        return '\\n'.join((N*'{:3}').format(*[i%(N*N) for i in self.position[i:]]) for i in range(0, N*N, N))\n",
    "\n",
    "SOLVED = (1, 2, 3, 4, 5, 6, 7, 8, 9, 10, 11, 12, 13, 14, 15, 0)\n",
    "\n",
    "start = [1, 2, 3, 4, 5, 6, 7, 8, 13, 9, 11, 12, 10, 14, 15, 0]\n",
    "#1, 2, 3, 4, 5, 6, 7, 8, 13, 9, 11, 12, 10, 14, 15, 0\n",
    "\n",
    "if parity(start) == 0:\n",
    "    print('Нерешаемо')\n",
    "else:\n",
    "    start = tuple(start)\n",
    "\n",
    "    p = Position(start, 0)\n",
    "\n",
    "    print(p)\n",
    "    print()\n",
    "\n",
    "    candidates = PriorityQueue()\n",
    "    candidates.put(p)\n",
    "\n",
    "    visited = set([p])\n",
    "\n",
    "    came_from = {p.position: None}\n",
    "    \n",
    "    while p.position != SOLVED:\n",
    "        p = candidates.get()\n",
    "        for k in moves(p.position):\n",
    "            if k not in visited:\n",
    "                candidates.put(Position(k, p.start_distance + 1))\n",
    "                came_from[k] = p\n",
    "                visited.add(k)\n",
    "\n",
    "    path = []\n",
    "    prev = p\n",
    "    while p.position != start:\n",
    "        p = came_from[p.position]\n",
    "        number = p.position[prev.position.index(0)]\n",
    "        path.append(number)\n",
    "        prev = p\n",
    "    path.reverse()\n",
    "\n",
    "    print(path)"
   ]
  },
  {
   "cell_type": "markdown",
   "id": "arbitrary-amazon",
   "metadata": {},
   "source": [
    "### Вывод"
   ]
  },
  {
   "cell_type": "markdown",
   "id": "b9f1fd7c",
   "metadata": {},
   "source": [
    "Мы научились искать подстроки в строке, используя различные алгоритмы (Кнута-Морриса-Пратта, Бойера-Мура, встроенный), а также реализовали возможность ввода строк и подстрок с клавиатуры, кроме того, предусмотрев возможность выбора чувствительности/нечувствительности к регистру и пробелу, сравнили скорость работы разных алгоритмов. Помимо этого, была написана программа, определяющая, является ли расположение \"решаемым\", то есть можно ли за конечное число шагов перейти от него к правильному, а также, если это возможно, найти, как минимум, одно решение, после которого числа будут расположены в верном порядке. Всё протестировано, работа запушена на гитхаб."
   ]
  }
 ],
 "metadata": {
  "kernelspec": {
   "display_name": "Python 3 (ipykernel)",
   "language": "python",
   "name": "python3"
  },
  "language_info": {
   "codemirror_mode": {
    "name": "ipython",
    "version": 3
   },
   "file_extension": ".py",
   "mimetype": "text/x-python",
   "name": "python",
   "nbconvert_exporter": "python",
   "pygments_lexer": "ipython3",
   "version": "3.9.7"
  }
 },
 "nbformat": 4,
 "nbformat_minor": 5
}
